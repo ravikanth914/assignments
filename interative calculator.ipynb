{
 "cells": [
  {
   "cell_type": "code",
   "execution_count": null,
   "metadata": {},
   "outputs": [
    {
     "name": "stdout",
     "output_type": "stream",
     "text": [
      "select the type of operation:\n",
      "press 1 for addition\n",
      "press 2 for subtraction\n",
      "press 3 for multiplication\n",
      "press 4 for dividion\n",
      "press 5 for distance\n",
      "press 6 for speed\n",
      "press 7 for intrest\n"
     ]
    }
   ],
   "source": [
    "def add(x,y):                              #defining the function of operations\n",
    "    return x+y\n",
    "\n",
    "def sub(x,y):\n",
    "    return x-y\n",
    "\n",
    "def mul(x,y):\n",
    "    return x*y\n",
    "\n",
    "def div(x,y):\n",
    "    return x/y\n",
    "\n",
    "def dist(x,y):\n",
    "    return(x*y)\n",
    "\n",
    "def spd(x,y):\n",
    "    return(x/y)\n",
    "def intrst(x,y,z):\n",
    "    return (x*y*z)/100\n",
    "\n",
    "\n",
    "print(\"select the type of operation:\")\n",
    "\n",
    "\n",
    "print(\"press 1 for addition\")\n",
    "print(\"press 2 for subtraction\")\n",
    "print(\"press 3 for multiplication\")\n",
    "print(\"press 4 for dividion\")\n",
    "print(\"press 5 for distance\")\n",
    "print(\"press 6 for speed\")\n",
    "print(\"press 7 for intrest\")\n",
    "\n",
    "\n",
    "op =int(input(\"1,2,3,4,5,6,7\"))                   #getting input to select the mode of operation\n",
    "\n",
    "\n",
    "\n",
    "if op==1:\n",
    "    x=int(input(\"enter 1st no.\"))                  #getting inputs to perform operation\n",
    "    y=int(input(\"enter 2nd no.\"))\n",
    "    print(\"sum =\", add(x,y))                       #printing the result\n",
    "elif op==2:\n",
    "    x=int(input(\"enter 1st no.\"))\n",
    "    y= int(input(\"enter 2nd no.\"))\n",
    "    print(\"sub =\", sub(x,y))\n",
    "elif op==3:\n",
    "    x=int(input(\"enter 1st no.\"))\n",
    "    y=int(input(\"enter 2nd no.\"))\n",
    "    print(\"mul =\", mul(x,y))\n",
    "elif op==4:\n",
    "    x=int(input(\"enter 1st no.\"))\n",
    "    y= int(input(\"enter 2nd no.\"))\n",
    "    print(\"div =\", div(x,y))\n",
    "elif op==5:\n",
    "    x=int(input(\"enter speed in m/s\"))\n",
    "    y= int(input(\"enter time in sec\"))\n",
    "    print(\"distance =\", dist(x,y))\n",
    "elif op==6:\n",
    "    x=int(input(\"enter distance in metre\"))\n",
    "    y= int(input(\"enter time in sec\"))\n",
    "    print(\"speed =\", spd(x,y))\n",
    "elif op==7:\n",
    "    x=int(input(\"enter principal\"))\n",
    "    y= int(input(\"enter rate of interest\"))\n",
    "    z=int(input(\"term of loan in years\"))\n",
    "    print (\"intrest =\",intrst(x,y,z))\n",
    "    \n",
    "else:\n",
    "    print(\"invalid\")\n",
    "    \n",
    "\n",
    "\n",
    "\n"
   ]
  },
  {
   "cell_type": "code",
   "execution_count": null,
   "metadata": {},
   "outputs": [],
   "source": []
  }
 ],
 "metadata": {
  "kernelspec": {
   "display_name": "Python 3",
   "language": "python",
   "name": "python3"
  },
  "language_info": {
   "codemirror_mode": {
    "name": "ipython",
    "version": 3
   },
   "file_extension": ".py",
   "mimetype": "text/x-python",
   "name": "python",
   "nbconvert_exporter": "python",
   "pygments_lexer": "ipython3",
   "version": "3.7.6"
  }
 },
 "nbformat": 4,
 "nbformat_minor": 4
}
