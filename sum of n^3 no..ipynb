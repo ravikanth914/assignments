{
 "cells": [
  {
   "cell_type": "code",
   "execution_count": 3,
   "metadata": {},
   "outputs": [
    {
     "name": "stdout",
     "output_type": "stream",
     "text": [
      "enter n =  3\n",
      "36\n"
     ]
    }
   ],
   "source": [
    "n=int(input(\"enter n =  \"))               #getting the input fromthe user\n",
    "s=0                                       \n",
    "\n",
    "if(n<0):\n",
    "    print(\"enter n any positive number\")  \n",
    "else:\n",
    "  while n>0:                              \n",
    "    s=s+n**3                            #condition to print sum of n^3 numbers\n",
    "    n=n-1\n",
    "print(s)                                 # printing the final solution"
   ]
  },
  {
   "cell_type": "markdown",
   "metadata": {},
   "source": [
    "## "
   ]
  }
 ],
 "metadata": {
  "kernelspec": {
   "display_name": "Python 3",
   "language": "python",
   "name": "python3"
  },
  "language_info": {
   "codemirror_mode": {
    "name": "ipython",
    "version": 3
   },
   "file_extension": ".py",
   "mimetype": "text/x-python",
   "name": "python",
   "nbconvert_exporter": "python",
   "pygments_lexer": "ipython3",
   "version": "3.7.6"
  }
 },
 "nbformat": 4,
 "nbformat_minor": 4
}
